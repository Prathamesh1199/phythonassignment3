{
 "cells": [
  {
   "cell_type": "code",
   "execution_count": null,
   "id": "60a8d9c4-c61c-437b-a69e-30cd6f52cc4e",
   "metadata": {},
   "outputs": [],
   "source": [
    "# Ask user to enter a number\n",
    "number = int(input(\"Enter a number: \"))\n",
    "\n",
    "# Check if the number is divisible by both 3 and 5\n",
    "if number % 3 == 0 and number % 5 == 0:\n",
    "    print(\"FizzBuzz\")\n",
    "# Check if the number is divisible by 3\n",
    "elif number % 3 == 0:\n",
    "    print(\"Fizz\")\n",
    "# Check if the number is divisible by 5\n",
    "elif number % 5 == 0:\n",
    "    print(\"Buzz\")\n",
    "# If the number is not divisible by either 3 or 5, print the number\n",
    "else:\n",
    "    print(number)\n"
   ]
  },
  {
   "cell_type": "code",
   "execution_count": null,
   "id": "31197a1d-a131-41ee-9ccc-1de7e4819cdf",
   "metadata": {},
   "outputs": [],
   "source": []
  },
  {
   "cell_type": "code",
   "execution_count": null,
   "id": "54a5a566-f054-4f76-a372-8330ed0b3a8e",
   "metadata": {},
   "outputs": [],
   "source": []
  },
  {
   "cell_type": "code",
   "execution_count": null,
   "id": "a69775de-9240-4166-9ca7-3d43b6cbf4d4",
   "metadata": {},
   "outputs": [],
   "source": []
  },
  {
   "cell_type": "code",
   "execution_count": null,
   "id": "044653d8-d09e-4b0e-951b-3fac402816db",
   "metadata": {},
   "outputs": [],
   "source": []
  }
 ],
 "metadata": {
  "kernelspec": {
   "display_name": "Python 3 (ipykernel)",
   "language": "python",
   "name": "python3"
  },
  "language_info": {
   "codemirror_mode": {
    "name": "ipython",
    "version": 3
   },
   "file_extension": ".py",
   "mimetype": "text/x-python",
   "name": "python",
   "nbconvert_exporter": "python",
   "pygments_lexer": "ipython3",
   "version": "3.10.8"
  }
 },
 "nbformat": 4,
 "nbformat_minor": 5
}
